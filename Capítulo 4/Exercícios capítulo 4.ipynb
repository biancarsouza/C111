{
  "cells": [
    {
      "cell_type": "markdown",
      "metadata": {
        "colab_type": "text",
        "id": "view-in-github"
      },
      "source": [
        "<a href=\"https://colab.research.google.com/github/laviniaribeiro/Algoritmos-III/blob/main/C%C3%B3pia_de_ExercicioC111.ipynb\" target=\"_parent\"><img src=\"https://colab.research.google.com/assets/colab-badge.svg\" alt=\"Open In Colab\"/></a>"
      ]
    },
    {
      "cell_type": "markdown",
      "metadata": {
        "id": "kjbR49VPc8z_"
      },
      "source": [
        "# Exercicio 1"
      ]
    },
    {
      "cell_type": "code",
      "execution_count": 1,
      "metadata": {
        "colab": {
          "base_uri": "https://localhost:8080/"
        },
        "id": "J_GADyBYdPzU",
        "outputId": "f7c3d7fd-419f-451b-c018-322f8d77b9b2"
      },
      "outputs": [
        {
          "name": "stdout",
          "output_type": "stream",
          "text": [
            "47\n",
            "[[9]\n",
            " [8]\n",
            " [3]\n",
            " [4]\n",
            " [7]\n",
            " [9]\n",
            " [2]\n",
            " [5]]\n"
          ]
        }
      ],
      "source": [
        "import numpy as np\n",
        "\n",
        "#criando arrays\n",
        "array1 = np.ones(8, dtype=int)\n",
        "array2 = np.random.randint(0, 9, [8])\n",
        "\n",
        "array3 = array1 + array2\n",
        "\n",
        "soma = np.sum(array3)\n",
        "\n",
        "print(soma)\n",
        "\n",
        "if soma >= 40:\n",
        "    array3 = np.reshape(array3, (8,1))\n",
        "else:\n",
        "    array3 = np.reshape(array3, (1,8))\n",
        "\n",
        "print(array3)"
      ]
    },
    {
      "cell_type": "markdown",
      "metadata": {
        "id": "YobGt-0ddX74"
      },
      "source": [
        "# Exercicio 2"
      ]
    },
    {
      "cell_type": "code",
      "execution_count": 2,
      "metadata": {
        "id": "4lMQnzSWdd55"
      },
      "outputs": [
        {
          "name": "stdout",
          "output_type": "stream",
          "text": [
            "[ 0  2  4  6  8 10 12 14 16 18 20 22 24 26 28 30 32 34 36 38 40 42 44 46\n",
            " 48 50]\n",
            "[100  98  96  94  92  90  88  86  84  82  80  78  76  74  72  70  68  66\n",
            "  64  62  60  58  56  54  52]\n",
            "[  0   2   4   6   8  10  12  14  16  18  20  22  24  26  28  30  32  34\n",
            "  36  38  40  42  44  46  48  50 100  98  96  94  92  90  88  86  84  82\n",
            "  80  78  76  74  72  70  68  66  64  62  60  58  56  54  52]\n"
          ]
        }
      ],
      "source": [
        "array1 = np.arange(0, 51, 2)\n",
        "\n",
        "print(array1)\n",
        "\n",
        "array2 = np.arange(100, 50, -2)\n",
        "\n",
        "print(array2)\n",
        "\n",
        "array3 = np.concatenate([array1, array2])\n",
        "\n",
        "print(array3)"
      ]
    },
    {
      "cell_type": "markdown",
      "metadata": {
        "id": "7x0EJGzEd05W"
      },
      "source": [
        "# Exercicio 3"
      ]
    },
    {
      "cell_type": "code",
      "execution_count": null,
      "metadata": {
        "colab": {
          "base_uri": "https://localhost:8080/",
          "height": 745
        },
        "collapsed": true,
        "id": "3TIi8yoOd-FG",
        "outputId": "615f5e27-3494-4873-d181-5d2010b2e42d"
      },
      "outputs": [
        {
          "name": "stdout",
          "output_type": "stream",
          "text": [
            "Selecione uma posição x e y (0 ou 1):\n",
            "* *\n",
            "* *\n"
          ]
        }
      ],
      "source": [
        "field = np.zeros([2, 2], dtype=int)\n",
        "coluna_aleatória = np.random.randint(0, 2)\n",
        "linha_aleatória = np.random.randint(0, 2)\n",
        "field[linha_aleatória][coluna_aleatória] = 1\n",
        "\n",
        "mascara = [['*', '*'], ['*', '*']]\n",
        "contador = 0\n",
        "\n",
        "def print_mask(mask):\n",
        "    for row in mask:\n",
        "        print(\" \".join(str(cell) for cell in row))\n",
        "\n",
        "while 1:\n",
        "    if(contador == 3):\n",
        "        print(\"Parabéns, você venceu o jogo!!!\")\n",
        "        break\n",
        "\n",
        "    print(\"Selecione uma posição x e y (0 ou 1):\")\n",
        "    print_mask(mascara)\n",
        "    \n",
        "    x = int(input(\"Digite o valor de x:\"))\n",
        "    y = int(input(\"Digite o valor de y:\"))\n",
        "\n",
        "    if field[x][y] == 1:\n",
        "        print(\"Você perdeu...\")\n",
        "        break\n",
        "    else:\n",
        "        mascara[x][y] = '0'\n",
        "        contador += 1"
      ]
    },
    {
      "cell_type": "markdown",
      "metadata": {
        "id": "Iq1Uov7aefca"
      },
      "source": [
        "# Parte II"
      ]
    },
    {
      "cell_type": "markdown",
      "metadata": {
        "id": "wmuXJspeetl5"
      },
      "source": [
        "#Exercicio 4"
      ]
    },
    {
      "cell_type": "code",
      "execution_count": null,
      "metadata": {
        "id": "8IcxJf4Iej6f"
      },
      "outputs": [],
      "source": [
        "matriz = np.random.randint(1, 5, [np.random.randint(1, 5), np.random.randint(1, 5)])\n",
        "\n",
        "print(matriz)\n",
        "\n",
        "linhas, colunas = matriz.shape\n",
        "total = linhas * colunas\n",
        "\n",
        "print(total)\n",
        "\n",
        "if total & 1:\n",
        "    print(\"A matriz pode se tornar um vetor com números ímpares de elementos\")\n",
        "else:\n",
        "    print(\"A matriz pode se tornar um vetor com um números pares de elementos\")"
      ]
    },
    {
      "cell_type": "markdown",
      "metadata": {
        "id": "VA8PKD00e8zK"
      },
      "source": [
        "# Exercicio 5"
      ]
    },
    {
      "cell_type": "code",
      "execution_count": null,
      "metadata": {
        "colab": {
          "base_uri": "https://localhost:8080/"
        },
        "id": "ZrAV3bVrfVHS",
        "outputId": "67e95d81-36cf-42e6-9d26-dd2243c4c258"
      },
      "outputs": [
        {
          "name": "stdout",
          "output_type": "stream",
          "text": [
            "[16.  33.5 12.5 34.5]\n",
            "[56.  56.5 46.5 34. ]\n",
            "34.5\n",
            "56.5\n",
            "Ocorrência dos valores:\n",
            "1: 2\n",
            "9: 1\n",
            "10: 2\n",
            "16: 1\n",
            "17: 1\n",
            "26: 1\n",
            "29: 1\n",
            "30: 2\n",
            "37: 2\n",
            "41: 1\n",
            "43: 1\n",
            "49: 1\n",
            "Valores que aparecem 2 vezes:\n",
            "1\n",
            "10\n",
            "30\n",
            "37\n"
          ]
        }
      ],
      "source": [
        "\n",
        "np.random.seed(10)\n",
        "\n",
        "matriz = np.random.randint(1, 50, [4, 4])\n",
        "\n",
        "media_linhas = matriz.sum(axis=1)/4\n",
        "\n",
        "print(media_linhas)\n",
        "\n",
        "media_colunas = matriz.sum(axis=0)/2\n",
        "\n",
        "print(media_colunas)\n",
        "print(media_linhas.max())\n",
        "print(media_colunas.max())\n",
        "\n",
        "contador = np.unique(matriz, return_counts=True)\n",
        "\n",
        "print('Ocorrência dos valores:')\n",
        "\n",
        "for i in range(len(contador[1])):\n",
        "    print(f'{contador[0][i]}: {contador[1][i]}')\n",
        "print('Valores que aparecem 2 vezes:')\n",
        "for j in range(len(contador[1])):\n",
        "    if contador[1][j] == 2:\n",
        "        print(contador[0][j])"
      ]
    }
  ],
  "metadata": {
    "colab": {
      "authorship_tag": "ABX9TyPM8HMzFXV4HnFQ79B6CZxd",
      "include_colab_link": true,
      "provenance": []
    },
    "kernelspec": {
      "display_name": "Python 3",
      "name": "python3"
    },
    "language_info": {
      "codemirror_mode": {
        "name": "ipython",
        "version": 3
      },
      "file_extension": ".py",
      "mimetype": "text/x-python",
      "name": "python",
      "nbconvert_exporter": "python",
      "pygments_lexer": "ipython3",
      "version": "3.13.0"
    }
  },
  "nbformat": 4,
  "nbformat_minor": 0
}
